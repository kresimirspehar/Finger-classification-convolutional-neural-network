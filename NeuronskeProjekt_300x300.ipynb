{
  "nbformat": 4,
  "nbformat_minor": 0,
  "metadata": {
    "colab": {
      "provenance": [],
      "gpuType": "T4"
    },
    "kernelspec": {
      "name": "python3",
      "display_name": "Python 3"
    },
    "language_info": {
      "name": "python"
    },
    "accelerator": "GPU"
  },
  "cells": [
    {
      "cell_type": "markdown",
      "source": [
        "# Implementacija modela za prepoznavanje broja prstiju na ruci pomoću konvolucijskih neuronskih mreža\n",
        "Kolegij: Neuronske mreže i duboko učenje\n",
        "Autor: Krešimir Špehar (0165079422)"
      ],
      "metadata": {
        "id": "2BBKgjlsGgvK"
      }
    },
    {
      "cell_type": "code",
      "execution_count": null,
      "metadata": {
        "colab": {
          "base_uri": "https://localhost:8080/"
        },
        "id": "J_n2fnwJvJ7N",
        "outputId": "cf6672b7-22e9-48e6-b40b-73c7937de20a"
      },
      "outputs": [
        {
          "output_type": "stream",
          "name": "stdout",
          "text": [
            "Mounted at /content/drive\n"
          ]
        }
      ],
      "source": [
        "#Povezivanje slika na google drive\n",
        "\n",
        "from google.colab import drive\n",
        "drive.mount('/content/drive')"
      ]
    },
    {
      "cell_type": "code",
      "source": [
        "#importanje biblioteka\n",
        "\n",
        "import tensorflow as tf\n",
        "from tensorflow.keras.preprocessing.image import load_img, img_to_array\n",
        "from tensorflow.keras.utils import to_categorical\n",
        "from tensorflow.keras.models import Sequential\n",
        "from tensorflow.keras.layers import Conv2D, MaxPooling2D, Flatten, Dense, Dropout\n",
        "from tensorflow.keras.optimizers import Adam\n",
        "from tensorflow.keras.losses import categorical_crossentropy\n",
        "from tensorflow.keras.metrics import categorical_accuracy\n",
        "from tensorflow.keras.callbacks import EarlyStopping, ModelCheckpoint\n",
        "from sklearn.model_selection import train_test_split\n",
        "import os\n",
        "import numpy as np\n"
      ],
      "metadata": {
        "id": "KVWkMlHYal1l"
      },
      "execution_count": null,
      "outputs": []
    },
    {
      "cell_type": "code",
      "source": [
        "target_size = (300, 300)  #Veličina slika\n",
        "num_classes = 5\n",
        "batch_size = 128          #Batch za treniranje\n",
        "epochs = 13\n",
        "\n",
        "data_dir = '/content/drive/MyDrive/project_folder/train'      #Putanja do foldera slika\n",
        "\n",
        "def load_and_preprocess_images(directory, target_size):       #Učitavanje i obrada slika\n",
        "    X = []\n",
        "    y = []\n",
        "    class_labels = sorted(os.listdir(directory))\n",
        "\n",
        "    for label_idx, class_label in enumerate(class_labels):\n",
        "        class_dir = os.path.join(directory, class_label)\n",
        "        for img_filename in os.listdir(class_dir):\n",
        "            img_path = os.path.join(class_dir, img_filename)\n",
        "            img = load_img(img_path, target_size=target_size)\n",
        "            img_array = img_to_array(img)\n",
        "            img_array /= 255.0\n",
        "            X.append(img_array)\n",
        "            y.append(label_idx)\n",
        "\n",
        "    X = np.array(X)\n",
        "    y = to_categorical(y, num_classes=num_classes)\n",
        "\n",
        "    return X, y\n",
        "\n",
        "X, y = load_and_preprocess_images(data_dir, target_size)          #Pozivanje funkcije iznad te spremanje u X i y\n",
        "\n",
        "X_train, X_temp, y_train, y_temp = train_test_split(X, y, test_size=0.2, random_state=42)         #Podjela slika u training, validation i test\n",
        "X_val, X_test, y_val, y_test = train_test_split(X_temp, y_temp, test_size=0.5, random_state=42)\n",
        "\n",
        "input_shape = X_train.shape[1:]         #Oblik slike bez veličine batcha"
      ],
      "metadata": {
        "id": "KcCxtt1B4oJ-"
      },
      "execution_count": null,
      "outputs": []
    },
    {
      "cell_type": "code",
      "source": [
        "#Prikaz koliko slika ima po svakoj klasi\n",
        "class_counts = {}\n",
        "class_labels = sorted(os.listdir(data_dir))\n",
        "\n",
        "for class_label in class_labels:\n",
        "    class_dir = os.path.join(data_dir, class_label)\n",
        "    num_images = len(os.listdir(class_dir))\n",
        "    class_counts[class_label] = num_images\n",
        "\n",
        "for class_label, count in class_counts.items():\n",
        "    print(f\"Class '{class_label}' has {count} images.\")\n"
      ],
      "metadata": {
        "colab": {
          "base_uri": "https://localhost:8080/"
        },
        "id": "z61xD8cf1Ya4",
        "outputId": "bd59b6a0-8944-4b87-fee9-b7d0ec624d0d"
      },
      "execution_count": null,
      "outputs": [
        {
          "output_type": "stream",
          "name": "stdout",
          "text": [
            "Class 'class_1' has 230 images.\n",
            "Class 'class_2' has 232 images.\n",
            "Class 'class_3' has 232 images.\n",
            "Class 'class_4' has 230 images.\n",
            "Class 'class_5' has 225 images.\n"
          ]
        }
      ]
    },
    {
      "cell_type": "code",
      "source": [
        "#Prvi model\n",
        "\n",
        "model = Sequential([\n",
        "    Conv2D(32, (3, 3), activation='relu', input_shape=input_shape),\n",
        "    MaxPooling2D((2, 2)),\n",
        "    Conv2D(64, (3, 3), activation='relu'),\n",
        "    MaxPooling2D((2, 2)),\n",
        "    Flatten(),\n",
        "    Dense(128, activation='relu'),\n",
        "    Dense(num_classes, activation='softmax')\n",
        "])"
      ],
      "metadata": {
        "id": "4jTrUooN0p9Z"
      },
      "execution_count": null,
      "outputs": []
    },
    {
      "cell_type": "code",
      "source": [
        "model.compile(loss='categorical_crossentropy', metrics=['accuracy'])  #Compile modela"
      ],
      "metadata": {
        "id": "L7bW8e9ldh6W"
      },
      "execution_count": null,
      "outputs": []
    },
    {
      "cell_type": "code",
      "source": [
        "model.summary()     #Prikaz strukture i parametara modela"
      ],
      "metadata": {
        "colab": {
          "base_uri": "https://localhost:8080/"
        },
        "id": "JpbzYqTGJXDM",
        "outputId": "70bd3ceb-7007-4c44-f444-4b2d9bc023d6"
      },
      "execution_count": null,
      "outputs": [
        {
          "output_type": "stream",
          "name": "stdout",
          "text": [
            "Model: \"sequential\"\n",
            "_________________________________________________________________\n",
            " Layer (type)                Output Shape              Param #   \n",
            "=================================================================\n",
            " conv2d (Conv2D)             (None, 298, 298, 32)      896       \n",
            "                                                                 \n",
            " max_pooling2d (MaxPooling2D  (None, 149, 149, 32)     0         \n",
            " )                                                               \n",
            "                                                                 \n",
            " conv2d_1 (Conv2D)           (None, 147, 147, 64)      18496     \n",
            "                                                                 \n",
            " max_pooling2d_1 (MaxPooling  (None, 73, 73, 64)       0         \n",
            " 2D)                                                             \n",
            "                                                                 \n",
            " flatten (Flatten)           (None, 341056)            0         \n",
            "                                                                 \n",
            " dense (Dense)               (None, 128)               43655296  \n",
            "                                                                 \n",
            " dense_1 (Dense)             (None, 5)                 645       \n",
            "                                                                 \n",
            "=================================================================\n",
            "Total params: 43,675,333\n",
            "Trainable params: 43,675,333\n",
            "Non-trainable params: 0\n",
            "_________________________________________________________________\n"
          ]
        }
      ]
    },
    {
      "cell_type": "code",
      "source": [
        "#Prva faza\n",
        "\n",
        "history = model.fit(\n",
        "    X_train,\n",
        "    y_train,\n",
        "    batch_size=batch_size,\n",
        "    epochs=epochs,\n",
        "    validation_data=(X_val, y_val),\n",
        ")\n",
        "\n",
        "#Evalucija modela na test podacima\n",
        "test_loss, test_accuracy = model.evaluate(X_test, y_test)\n",
        "print(f\"Test accuracy: {test_accuracy * 100:.2f}%\")\n"
      ],
      "metadata": {
        "id": "bd_hLZ_e0urH"
      },
      "execution_count": null,
      "outputs": []
    },
    {
      "cell_type": "code",
      "source": [
        "#Drugi model\n",
        "\n",
        "batch_size = 32\n",
        "epochs = 15\n",
        "\n",
        "model = Sequential()\n",
        "\n",
        "model.add(Conv2D(32, (3, 3), 1, activation='relu', input_shape=(target_size[0], target_size[1], 3)))\n",
        "model.add(MaxPooling2D((2, 2)))\n",
        "\n",
        "model.add(Conv2D(64, (3, 3), 1, activation='relu'))\n",
        "model.add(MaxPooling2D((2, 2)))\n",
        "\n",
        "model.add(Conv2D(128, (3, 3), 1, activation='relu'))\n",
        "model.add(MaxPooling2D((2, 2)))\n",
        "\n",
        "model.add(Conv2D(256, (3, 3), 1, activation='relu'))      #Dodani konvolucijski sloj\n",
        "model.add(MaxPooling2D((2, 2)))                           #Dodani sloj udruživanja\n",
        "\n",
        "model.add(Flatten())\n",
        "\n",
        "model.add(Dense(128, activation='relu'))\n",
        "model.add(Dropout(0.5))                                   #Dodan dropout\n",
        "model.add(Dense(num_classes, activation='softmax'))"
      ],
      "metadata": {
        "id": "EQaQBb9oOB2v"
      },
      "execution_count": null,
      "outputs": []
    },
    {
      "cell_type": "code",
      "source": [
        "model.compile(loss='categorical_crossentropy', metrics=['accuracy'])"
      ],
      "metadata": {
        "id": "j55srfRLRIJp"
      },
      "execution_count": null,
      "outputs": []
    },
    {
      "cell_type": "code",
      "source": [
        "#Druga faza\n",
        "\n",
        "history = model.fit(\n",
        "    X_train,\n",
        "    y_train,\n",
        "    batch_size=batch_size,\n",
        "    epochs=epochs,\n",
        "    validation_data=(X_val, y_val),\n",
        "\n",
        ")\n",
        "\n",
        "test_loss, test_accuracy = model.evaluate(X_test, y_test)\n",
        "print(f\"Test accuracy: {test_accuracy * 100:.2f}%\")\n"
      ],
      "metadata": {
        "id": "SGWsgiyM2oXg",
        "colab": {
          "base_uri": "https://localhost:8080/"
        },
        "outputId": "1e4c1707-3477-40d4-b1bf-9d1c9d3d6984"
      },
      "execution_count": null,
      "outputs": [
        {
          "output_type": "stream",
          "name": "stdout",
          "text": [
            "Epoch 1/15\n",
            "29/29 [==============================] - 19s 185ms/step - loss: 2.1345 - accuracy: 0.1948 - val_loss: 1.6176 - val_accuracy: 0.1826\n",
            "Epoch 2/15\n",
            "29/29 [==============================] - 3s 107ms/step - loss: 1.6201 - accuracy: 0.2100 - val_loss: 1.6209 - val_accuracy: 0.1478\n",
            "Epoch 3/15\n",
            "29/29 [==============================] - 3s 96ms/step - loss: 1.6171 - accuracy: 0.2231 - val_loss: 1.5995 - val_accuracy: 0.2957\n",
            "Epoch 4/15\n",
            "29/29 [==============================] - 3s 93ms/step - loss: 1.5976 - accuracy: 0.2731 - val_loss: 1.5604 - val_accuracy: 0.2870\n",
            "Epoch 5/15\n",
            "29/29 [==============================] - 3s 94ms/step - loss: 1.5902 - accuracy: 0.2742 - val_loss: 1.5413 - val_accuracy: 0.2870\n",
            "Epoch 6/15\n",
            "29/29 [==============================] - 3s 93ms/step - loss: 1.5561 - accuracy: 0.2971 - val_loss: 1.5187 - val_accuracy: 0.3130\n",
            "Epoch 7/15\n",
            "29/29 [==============================] - 3s 103ms/step - loss: 1.4764 - accuracy: 0.3526 - val_loss: 1.4595 - val_accuracy: 0.3565\n",
            "Epoch 8/15\n",
            "29/29 [==============================] - 3s 95ms/step - loss: 1.3951 - accuracy: 0.4168 - val_loss: 1.4844 - val_accuracy: 0.2957\n",
            "Epoch 9/15\n",
            "29/29 [==============================] - 3s 99ms/step - loss: 1.3251 - accuracy: 0.4505 - val_loss: 1.4862 - val_accuracy: 0.3478\n",
            "Epoch 10/15\n",
            "29/29 [==============================] - 3s 93ms/step - loss: 1.2488 - accuracy: 0.4831 - val_loss: 1.3968 - val_accuracy: 0.3739\n",
            "Epoch 11/15\n",
            "29/29 [==============================] - 3s 101ms/step - loss: 1.0993 - accuracy: 0.5647 - val_loss: 1.3364 - val_accuracy: 0.4609\n",
            "Epoch 12/15\n",
            "29/29 [==============================] - 3s 105ms/step - loss: 1.0017 - accuracy: 0.5952 - val_loss: 1.3248 - val_accuracy: 0.5130\n",
            "Epoch 13/15\n",
            "29/29 [==============================] - 3s 95ms/step - loss: 0.8367 - accuracy: 0.6736 - val_loss: 1.4381 - val_accuracy: 0.4957\n",
            "Epoch 14/15\n",
            "29/29 [==============================] - 3s 94ms/step - loss: 0.7492 - accuracy: 0.7149 - val_loss: 1.2845 - val_accuracy: 0.4957\n",
            "Epoch 15/15\n",
            "29/29 [==============================] - 3s 94ms/step - loss: 0.5960 - accuracy: 0.7900 - val_loss: 1.5415 - val_accuracy: 0.4261\n",
            "4/4 [==============================] - 0s 38ms/step - loss: 1.3500 - accuracy: 0.5130\n",
            "Test accuracy: 51.30%\n"
          ]
        }
      ]
    },
    {
      "cell_type": "code",
      "source": [
        "model.summary()"
      ],
      "metadata": {
        "colab": {
          "base_uri": "https://localhost:8080/"
        },
        "id": "GOrXyHvJBtYC",
        "outputId": "935ac37b-e3da-4ae0-c2c7-c3821d1c97d4"
      },
      "execution_count": null,
      "outputs": [
        {
          "output_type": "stream",
          "name": "stdout",
          "text": [
            "Model: \"sequential\"\n",
            "_________________________________________________________________\n",
            " Layer (type)                Output Shape              Param #   \n",
            "=================================================================\n",
            " conv2d (Conv2D)             (None, 298, 298, 32)      896       \n",
            "                                                                 \n",
            " max_pooling2d (MaxPooling2D  (None, 149, 149, 32)     0         \n",
            " )                                                               \n",
            "                                                                 \n",
            " conv2d_1 (Conv2D)           (None, 147, 147, 64)      18496     \n",
            "                                                                 \n",
            " max_pooling2d_1 (MaxPooling  (None, 73, 73, 64)       0         \n",
            " 2D)                                                             \n",
            "                                                                 \n",
            " conv2d_2 (Conv2D)           (None, 71, 71, 128)       73856     \n",
            "                                                                 \n",
            " max_pooling2d_2 (MaxPooling  (None, 35, 35, 128)      0         \n",
            " 2D)                                                             \n",
            "                                                                 \n",
            " conv2d_3 (Conv2D)           (None, 33, 33, 256)       295168    \n",
            "                                                                 \n",
            " max_pooling2d_3 (MaxPooling  (None, 16, 16, 256)      0         \n",
            " 2D)                                                             \n",
            "                                                                 \n",
            " flatten (Flatten)           (None, 65536)             0         \n",
            "                                                                 \n",
            " dense (Dense)               (None, 128)               8388736   \n",
            "                                                                 \n",
            " dropout (Dropout)           (None, 128)               0         \n",
            "                                                                 \n",
            " dense_1 (Dense)             (None, 5)                 645       \n",
            "                                                                 \n",
            "=================================================================\n",
            "Total params: 8,777,797\n",
            "Trainable params: 8,777,797\n",
            "Non-trainable params: 0\n",
            "_________________________________________________________________\n"
          ]
        }
      ]
    },
    {
      "cell_type": "code",
      "source": [
        "#Funkcija za plotiranje training i validation lossa te training i validation accuracya\n",
        "import matplotlib.pyplot as plt\n",
        "\n",
        "train_loss = history.history['loss']\n",
        "val_loss = history.history['val_loss']\n",
        "train_accuracy = history.history['accuracy']\n",
        "val_accuracy = history.history['val_accuracy']\n",
        "epochs = range(1, len(train_loss) + 1)\n",
        "\n",
        "plt.figure(figsize=(12, 6))\n",
        "plt.subplot(1, 2, 1)\n",
        "plt.plot(epochs, train_loss, 'b', label='Training Loss')\n",
        "plt.plot(epochs, val_loss, 'r', label='Validation Loss')\n",
        "plt.title('Training and Validation Loss')\n",
        "plt.xlabel('Epochs')\n",
        "plt.ylabel('Loss')\n",
        "plt.legend()\n",
        "\n",
        "plt.subplot(1, 2, 2)\n",
        "plt.plot(epochs, train_accuracy, 'b', label='Training Accuracy')\n",
        "plt.plot(epochs, val_accuracy, 'r', label='Validation Accuracy')\n",
        "plt.title('Training and Validation Accuracy')\n",
        "plt.xlabel('Epochs')\n",
        "plt.ylabel('Accuracy')\n",
        "plt.legend()\n",
        "\n",
        "plt.tight_layout()\n",
        "plt.show()"
      ],
      "metadata": {
        "id": "9yZbrCbZKQ26"
      },
      "execution_count": null,
      "outputs": []
    }
  ]
}